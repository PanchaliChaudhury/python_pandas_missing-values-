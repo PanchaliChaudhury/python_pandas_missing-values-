{
 "cells": [
  {
   "cell_type": "markdown",
   "id": "1901ab29",
   "metadata": {},
   "source": [
    "# PANDAS"
   ]
  },
  {
   "cell_type": "markdown",
   "id": "c8ebd8c3",
   "metadata": {},
   "source": [
    "## Importing all necessary packages"
   ]
  },
  {
   "cell_type": "code",
   "execution_count": 149,
   "id": "bcedaae8",
   "metadata": {},
   "outputs": [],
   "source": [
    "\n",
    "import pandas as pd # data science essentials\n",
    "import matplotlib.pyplot as plt # NEW: data visualization essentials\n",
    "import seaborn as sns # NEW: enhanced data visualization"
   ]
  },
  {
   "cell_type": "code",
   "execution_count": 8,
   "id": "f869d68b",
   "metadata": {},
   "outputs": [
    {
     "data": {
      "text/html": [
       "<div>\n",
       "<style scoped>\n",
       "    .dataframe tbody tr th:only-of-type {\n",
       "        vertical-align: middle;\n",
       "    }\n",
       "\n",
       "    .dataframe tbody tr th {\n",
       "        vertical-align: top;\n",
       "    }\n",
       "\n",
       "    .dataframe thead th {\n",
       "        text-align: right;\n",
       "    }\n",
       "</style>\n",
       "<table border=\"1\" class=\"dataframe\">\n",
       "  <thead>\n",
       "    <tr style=\"text-align: right;\">\n",
       "      <th></th>\n",
       "      <th>Obs</th>\n",
       "      <th>carat</th>\n",
       "      <th>color</th>\n",
       "      <th>clarity</th>\n",
       "      <th>cut</th>\n",
       "      <th>channel</th>\n",
       "      <th>store</th>\n",
       "      <th>price</th>\n",
       "    </tr>\n",
       "  </thead>\n",
       "  <tbody>\n",
       "    <tr>\n",
       "      <th>0</th>\n",
       "      <td>1</td>\n",
       "      <td>0.32</td>\n",
       "      <td>3</td>\n",
       "      <td>7</td>\n",
       "      <td>0</td>\n",
       "      <td>0</td>\n",
       "      <td>7</td>\n",
       "      <td>1375</td>\n",
       "    </tr>\n",
       "    <tr>\n",
       "      <th>1</th>\n",
       "      <td>2</td>\n",
       "      <td>0.35</td>\n",
       "      <td>5</td>\n",
       "      <td>7</td>\n",
       "      <td>1</td>\n",
       "      <td>0</td>\n",
       "      <td>7</td>\n",
       "      <td>1680</td>\n",
       "    </tr>\n",
       "    <tr>\n",
       "      <th>2</th>\n",
       "      <td>3</td>\n",
       "      <td>0.40</td>\n",
       "      <td>4</td>\n",
       "      <td>7</td>\n",
       "      <td>1</td>\n",
       "      <td>0</td>\n",
       "      <td>7</td>\n",
       "      <td>2245</td>\n",
       "    </tr>\n",
       "    <tr>\n",
       "      <th>3</th>\n",
       "      <td>4</td>\n",
       "      <td>0.59</td>\n",
       "      <td>5</td>\n",
       "      <td>7</td>\n",
       "      <td>0</td>\n",
       "      <td>0</td>\n",
       "      <td>3</td>\n",
       "      <td>2495</td>\n",
       "    </tr>\n",
       "    <tr>\n",
       "      <th>4</th>\n",
       "      <td>5</td>\n",
       "      <td>0.72</td>\n",
       "      <td>7</td>\n",
       "      <td>8</td>\n",
       "      <td>0</td>\n",
       "      <td>0</td>\n",
       "      <td>8</td>\n",
       "      <td>2699</td>\n",
       "    </tr>\n",
       "  </tbody>\n",
       "</table>\n",
       "</div>"
      ],
      "text/plain": [
       "   Obs  carat  color  clarity  cut  channel  store  price\n",
       "0    1   0.32      3        7    0        0      7   1375\n",
       "1    2   0.35      5        7    1        0      7   1680\n",
       "2    3   0.40      4        7    1        0      7   2245\n",
       "3    4   0.59      5        7    0        0      3   2495\n",
       "4    5   0.72      7        8    0        0      8   2699"
      ]
     },
     "execution_count": 8,
     "metadata": {},
     "output_type": "execute_result"
    }
   ],
   "source": [
    "import pandas as pd\n",
    "\n",
    "## Importing file \n",
    "\n",
    "file = \"./__datasets/diamonds.xlsx\"\n",
    "\n",
    "diamonds = pd.read_excel(io = file, sheet_name = 0, header = 0)\n",
    "\n",
    "diamonds.head(n = 5)"
   ]
  },
  {
   "cell_type": "markdown",
   "id": "bc484aa1",
   "metadata": {},
   "source": [
    "# Slicing through the data set "
   ]
  },
  {
   "cell_type": "code",
   "execution_count": 10,
   "id": "8c931f1c",
   "metadata": {},
   "outputs": [
    {
     "data": {
      "text/plain": [
       "0    0.32\n",
       "1    0.35\n",
       "2    0.40\n",
       "3    0.59\n",
       "4    0.72\n",
       "Name: carat, dtype: float64"
      ]
     },
     "execution_count": 10,
     "metadata": {},
     "output_type": "execute_result"
    }
   ],
   "source": [
    "diamonds['carat'].head( n = 5)"
   ]
  },
  {
   "cell_type": "code",
   "execution_count": 19,
   "id": "a30eb646",
   "metadata": {},
   "outputs": [
    {
     "data": {
      "text/html": [
       "<div>\n",
       "<style scoped>\n",
       "    .dataframe tbody tr th:only-of-type {\n",
       "        vertical-align: middle;\n",
       "    }\n",
       "\n",
       "    .dataframe tbody tr th {\n",
       "        vertical-align: top;\n",
       "    }\n",
       "\n",
       "    .dataframe thead th {\n",
       "        text-align: right;\n",
       "    }\n",
       "</style>\n",
       "<table border=\"1\" class=\"dataframe\">\n",
       "  <thead>\n",
       "    <tr style=\"text-align: right;\">\n",
       "      <th></th>\n",
       "      <th>carat</th>\n",
       "    </tr>\n",
       "  </thead>\n",
       "  <tbody>\n",
       "    <tr>\n",
       "      <th>0</th>\n",
       "      <td>0.32</td>\n",
       "    </tr>\n",
       "    <tr>\n",
       "      <th>1</th>\n",
       "      <td>0.35</td>\n",
       "    </tr>\n",
       "    <tr>\n",
       "      <th>2</th>\n",
       "      <td>0.40</td>\n",
       "    </tr>\n",
       "    <tr>\n",
       "      <th>3</th>\n",
       "      <td>0.59</td>\n",
       "    </tr>\n",
       "    <tr>\n",
       "      <th>4</th>\n",
       "      <td>0.72</td>\n",
       "    </tr>\n",
       "  </tbody>\n",
       "</table>\n",
       "</div>"
      ],
      "text/plain": [
       "   carat\n",
       "0   0.32\n",
       "1   0.35\n",
       "2   0.40\n",
       "3   0.59\n",
       "4   0.72"
      ]
     },
     "execution_count": 19,
     "metadata": {},
     "output_type": "execute_result"
    }
   ],
   "source": [
    "diamonds[    ['carat']    ].head(n = 5)"
   ]
  },
  {
   "cell_type": "code",
   "execution_count": 21,
   "id": "0cab7313",
   "metadata": {},
   "outputs": [
    {
     "data": {
      "text/html": [
       "<div>\n",
       "<style scoped>\n",
       "    .dataframe tbody tr th:only-of-type {\n",
       "        vertical-align: middle;\n",
       "    }\n",
       "\n",
       "    .dataframe tbody tr th {\n",
       "        vertical-align: top;\n",
       "    }\n",
       "\n",
       "    .dataframe thead th {\n",
       "        text-align: right;\n",
       "    }\n",
       "</style>\n",
       "<table border=\"1\" class=\"dataframe\">\n",
       "  <thead>\n",
       "    <tr style=\"text-align: right;\">\n",
       "      <th></th>\n",
       "      <th>carat</th>\n",
       "      <th>color</th>\n",
       "      <th>clarity</th>\n",
       "      <th>cut</th>\n",
       "    </tr>\n",
       "  </thead>\n",
       "  <tbody>\n",
       "    <tr>\n",
       "      <th>0</th>\n",
       "      <td>0.32</td>\n",
       "      <td>3</td>\n",
       "      <td>7</td>\n",
       "      <td>0</td>\n",
       "    </tr>\n",
       "    <tr>\n",
       "      <th>1</th>\n",
       "      <td>0.35</td>\n",
       "      <td>5</td>\n",
       "      <td>7</td>\n",
       "      <td>1</td>\n",
       "    </tr>\n",
       "    <tr>\n",
       "      <th>2</th>\n",
       "      <td>0.40</td>\n",
       "      <td>4</td>\n",
       "      <td>7</td>\n",
       "      <td>1</td>\n",
       "    </tr>\n",
       "    <tr>\n",
       "      <th>3</th>\n",
       "      <td>0.59</td>\n",
       "      <td>5</td>\n",
       "      <td>7</td>\n",
       "      <td>0</td>\n",
       "    </tr>\n",
       "    <tr>\n",
       "      <th>4</th>\n",
       "      <td>0.72</td>\n",
       "      <td>7</td>\n",
       "      <td>8</td>\n",
       "      <td>0</td>\n",
       "    </tr>\n",
       "  </tbody>\n",
       "</table>\n",
       "</div>"
      ],
      "text/plain": [
       "   carat  color  clarity  cut\n",
       "0   0.32      3        7    0\n",
       "1   0.35      5        7    1\n",
       "2   0.40      4        7    1\n",
       "3   0.59      5        7    0\n",
       "4   0.72      7        8    0"
      ]
     },
     "execution_count": 21,
     "metadata": {},
     "output_type": "execute_result"
    }
   ],
   "source": [
    "diamonds[    ['carat', 'color', 'clarity', 'cut']    ].head( n  = 5)"
   ]
  },
  {
   "cell_type": "markdown",
   "id": "0da97224",
   "metadata": {},
   "source": [
    "## iloc and loc method for slicing "
   ]
  },
  {
   "cell_type": "markdown",
   "id": "7e7e2036",
   "metadata": {},
   "source": [
    "The'.iloc' is used for entering the row and coloumn numbers. \n",
    "whereas, the '.loc' method is used to enter the row number and the variable name. \n",
    "NB only one variable name can be put inside a square bracket"
   ]
  },
  {
   "cell_type": "code",
   "execution_count": 38,
   "id": "72fd3ed1",
   "metadata": {},
   "outputs": [
    {
     "data": {
      "text/plain": [
       "3     0.59\n",
       "4     0.72\n",
       "5     0.72\n",
       "6     0.51\n",
       "7     1.00\n",
       "8     1.00\n",
       "9     0.47\n",
       "10    0.75\n",
       "Name: carat, dtype: float64"
      ]
     },
     "execution_count": 38,
     "metadata": {},
     "output_type": "execute_result"
    }
   ],
   "source": [
    "diamonds.loc[ 3:10 , 'carat']\n"
   ]
  },
  {
   "cell_type": "code",
   "execution_count": 45,
   "id": "ba495515",
   "metadata": {},
   "outputs": [
    {
     "data": {
      "text/html": [
       "<div>\n",
       "<style scoped>\n",
       "    .dataframe tbody tr th:only-of-type {\n",
       "        vertical-align: middle;\n",
       "    }\n",
       "\n",
       "    .dataframe tbody tr th {\n",
       "        vertical-align: top;\n",
       "    }\n",
       "\n",
       "    .dataframe thead th {\n",
       "        text-align: right;\n",
       "    }\n",
       "</style>\n",
       "<table border=\"1\" class=\"dataframe\">\n",
       "  <thead>\n",
       "    <tr style=\"text-align: right;\">\n",
       "      <th></th>\n",
       "      <th>carat</th>\n",
       "      <th>color</th>\n",
       "      <th>clarity</th>\n",
       "      <th>cut</th>\n",
       "      <th>channel</th>\n",
       "      <th>store</th>\n",
       "      <th>price</th>\n",
       "    </tr>\n",
       "  </thead>\n",
       "  <tbody>\n",
       "    <tr>\n",
       "      <th>10</th>\n",
       "      <td>0.75</td>\n",
       "      <td>5</td>\n",
       "      <td>8</td>\n",
       "      <td>0</td>\n",
       "      <td>0</td>\n",
       "      <td>3</td>\n",
       "      <td>3200</td>\n",
       "    </tr>\n",
       "    <tr>\n",
       "      <th>11</th>\n",
       "      <td>0.72</td>\n",
       "      <td>5</td>\n",
       "      <td>7</td>\n",
       "      <td>1</td>\n",
       "      <td>0</td>\n",
       "      <td>8</td>\n",
       "      <td>3499</td>\n",
       "    </tr>\n",
       "    <tr>\n",
       "      <th>12</th>\n",
       "      <td>0.72</td>\n",
       "      <td>6</td>\n",
       "      <td>7</td>\n",
       "      <td>0</td>\n",
       "      <td>0</td>\n",
       "      <td>4</td>\n",
       "      <td>3499</td>\n",
       "    </tr>\n",
       "    <tr>\n",
       "      <th>13</th>\n",
       "      <td>0.70</td>\n",
       "      <td>6</td>\n",
       "      <td>6</td>\n",
       "      <td>0</td>\n",
       "      <td>0</td>\n",
       "      <td>3</td>\n",
       "      <td>3500</td>\n",
       "    </tr>\n",
       "    <tr>\n",
       "      <th>14</th>\n",
       "      <td>1.03</td>\n",
       "      <td>6</td>\n",
       "      <td>8</td>\n",
       "      <td>0</td>\n",
       "      <td>0</td>\n",
       "      <td>3</td>\n",
       "      <td>3900</td>\n",
       "    </tr>\n",
       "    <tr>\n",
       "      <th>...</th>\n",
       "      <td>...</td>\n",
       "      <td>...</td>\n",
       "      <td>...</td>\n",
       "      <td>...</td>\n",
       "      <td>...</td>\n",
       "      <td>...</td>\n",
       "      <td>...</td>\n",
       "    </tr>\n",
       "    <tr>\n",
       "      <th>95</th>\n",
       "      <td>0.40</td>\n",
       "      <td>6</td>\n",
       "      <td>4</td>\n",
       "      <td>1</td>\n",
       "      <td>2</td>\n",
       "      <td>10</td>\n",
       "      <td>949</td>\n",
       "    </tr>\n",
       "    <tr>\n",
       "      <th>96</th>\n",
       "      <td>0.38</td>\n",
       "      <td>4</td>\n",
       "      <td>5</td>\n",
       "      <td>1</td>\n",
       "      <td>2</td>\n",
       "      <td>10</td>\n",
       "      <td>986</td>\n",
       "    </tr>\n",
       "    <tr>\n",
       "      <th>97</th>\n",
       "      <td>0.36</td>\n",
       "      <td>4</td>\n",
       "      <td>4</td>\n",
       "      <td>1</td>\n",
       "      <td>2</td>\n",
       "      <td>10</td>\n",
       "      <td>998</td>\n",
       "    </tr>\n",
       "    <tr>\n",
       "      <th>98</th>\n",
       "      <td>0.38</td>\n",
       "      <td>5</td>\n",
       "      <td>4</td>\n",
       "      <td>1</td>\n",
       "      <td>2</td>\n",
       "      <td>10</td>\n",
       "      <td>1025</td>\n",
       "    </tr>\n",
       "    <tr>\n",
       "      <th>99</th>\n",
       "      <td>0.38</td>\n",
       "      <td>3</td>\n",
       "      <td>5</td>\n",
       "      <td>1</td>\n",
       "      <td>2</td>\n",
       "      <td>10</td>\n",
       "      <td>1062</td>\n",
       "    </tr>\n",
       "  </tbody>\n",
       "</table>\n",
       "<p>90 rows × 7 columns</p>\n",
       "</div>"
      ],
      "text/plain": [
       "    carat  color  clarity  cut  channel  store  price\n",
       "10   0.75      5        8    0        0      3   3200\n",
       "11   0.72      5        7    1        0      8   3499\n",
       "12   0.72      6        7    0        0      4   3499\n",
       "13   0.70      6        6    0        0      3   3500\n",
       "14   1.03      6        8    0        0      3   3900\n",
       "..    ...    ...      ...  ...      ...    ...    ...\n",
       "95   0.40      6        4    1        2     10    949\n",
       "96   0.38      4        5    1        2     10    986\n",
       "97   0.36      4        4    1        2     10    998\n",
       "98   0.38      5        4    1        2     10   1025\n",
       "99   0.38      3        5    1        2     10   1062\n",
       "\n",
       "[90 rows x 7 columns]"
      ]
     },
     "execution_count": 45,
     "metadata": {},
     "output_type": "execute_result"
    }
   ],
   "source": [
    "diamonds.iloc[3 : 10, 1:3 ]\n",
    "diamonds.iloc[10:100, 1: ]\n"
   ]
  },
  {
   "cell_type": "markdown",
   "id": "9fa09c19",
   "metadata": {},
   "source": [
    "## Conditional Slicing "
   ]
  },
  {
   "cell_type": "markdown",
   "id": "9b9e9369",
   "metadata": {},
   "source": [
    "print out all variables whose carat value is greater than 2 "
   ]
  },
  {
   "cell_type": "code",
   "execution_count": 49,
   "id": "ac2b1d8e",
   "metadata": {},
   "outputs": [
    {
     "data": {
      "text/plain": [
       "39     2.37\n",
       "42     2.11\n",
       "90     2.04\n",
       "354    2.27\n",
       "368    2.02\n",
       "377    2.10\n",
       "378    2.13\n",
       "379    2.20\n",
       "382    2.01\n",
       "390    2.01\n",
       "391    2.01\n",
       "392    2.02\n",
       "397    2.48\n",
       "398    2.01\n",
       "Name: carat, dtype: float64"
      ]
     },
     "execution_count": 49,
     "metadata": {},
     "output_type": "execute_result"
    }
   ],
   "source": [
    "\n",
    "diamonds.loc[ : , 'carat'][diamonds.loc[ :, 'carat'] > 2]"
   ]
  },
  {
   "cell_type": "markdown",
   "id": "768ae580",
   "metadata": {},
   "source": [
    "Practice 1 \n",
    "\n",
    "print out all diamonds with price less than 3000"
   ]
  },
  {
   "cell_type": "code",
   "execution_count": 52,
   "id": "f51fe592",
   "metadata": {},
   "outputs": [
    {
     "data": {
      "text/plain": [
       "0      1375\n",
       "1      1680\n",
       "2      2245\n",
       "3      2495\n",
       "4      2699\n",
       "       ... \n",
       "146    2665\n",
       "147    2678\n",
       "148    2680\n",
       "149    2680\n",
       "150    2905\n",
       "Name: price, Length: 74, dtype: int64"
      ]
     },
     "execution_count": 52,
     "metadata": {},
     "output_type": "execute_result"
    }
   ],
   "source": [
    "diamonds.loc[ : , 'price'][diamonds.loc[ : , 'price'] < 3000]"
   ]
  },
  {
   "cell_type": "markdown",
   "id": "fc41c751",
   "metadata": {},
   "source": [
    "## Slicing multiple variables at a time "
   ]
  },
  {
   "cell_type": "markdown",
   "id": "4cd85eda",
   "metadata": {},
   "source": [
    "Practice 2 \n",
    "\n",
    "multiple variables \n",
    "\n",
    "print out diamonds with carrat > 2, clarity and cut = 1 and price less than 3000"
   ]
  },
  {
   "cell_type": "code",
   "execution_count": 64,
   "id": "7067d889",
   "metadata": {},
   "outputs": [
    {
     "name": "stderr",
     "output_type": "stream",
     "text": [
      "C:\\Users\\chaud\\AppData\\Local\\Temp/ipykernel_27160/362985114.py:1: UserWarning: Boolean Series key will be reindexed to match DataFrame index.\n",
      "  diamonds.loc[ : , ['carat', 'clarity', 'cut', 'price'] ]\\\n"
     ]
    },
    {
     "data": {
      "text/html": [
       "<div>\n",
       "<style scoped>\n",
       "    .dataframe tbody tr th:only-of-type {\n",
       "        vertical-align: middle;\n",
       "    }\n",
       "\n",
       "    .dataframe tbody tr th {\n",
       "        vertical-align: top;\n",
       "    }\n",
       "\n",
       "    .dataframe thead th {\n",
       "        text-align: right;\n",
       "    }\n",
       "</style>\n",
       "<table border=\"1\" class=\"dataframe\">\n",
       "  <thead>\n",
       "    <tr style=\"text-align: right;\">\n",
       "      <th></th>\n",
       "      <th>carat</th>\n",
       "      <th>clarity</th>\n",
       "      <th>cut</th>\n",
       "      <th>price</th>\n",
       "    </tr>\n",
       "  </thead>\n",
       "  <tbody>\n",
       "    <tr>\n",
       "      <th>92</th>\n",
       "      <td>0.35</td>\n",
       "      <td>1</td>\n",
       "      <td>1</td>\n",
       "      <td>893</td>\n",
       "    </tr>\n",
       "    <tr>\n",
       "      <th>298</th>\n",
       "      <td>1.04</td>\n",
       "      <td>1</td>\n",
       "      <td>1</td>\n",
       "      <td>7150</td>\n",
       "    </tr>\n",
       "    <tr>\n",
       "      <th>318</th>\n",
       "      <td>1.17</td>\n",
       "      <td>1</td>\n",
       "      <td>1</td>\n",
       "      <td>8089</td>\n",
       "    </tr>\n",
       "    <tr>\n",
       "      <th>319</th>\n",
       "      <td>1.17</td>\n",
       "      <td>1</td>\n",
       "      <td>1</td>\n",
       "      <td>8089</td>\n",
       "    </tr>\n",
       "  </tbody>\n",
       "</table>\n",
       "</div>"
      ],
      "text/plain": [
       "     carat  clarity  cut  price\n",
       "92    0.35        1    1    893\n",
       "298   1.04        1    1   7150\n",
       "318   1.17        1    1   8089\n",
       "319   1.17        1    1   8089"
      ]
     },
     "execution_count": 64,
     "metadata": {},
     "output_type": "execute_result"
    }
   ],
   "source": [
    "diamonds.loc[ : , ['carat', 'clarity', 'cut', 'price'] ]\\\n",
    "            [diamonds.loc[ : , 'carat']    < 2]\\\n",
    "            [diamonds.loc[ : , 'clarity'] == 1]\\\n",
    "            [diamonds.loc[ : , 'cut'] == 1]\\\n",
    "            [diamonds.loc[ : , 'price'] < 10000]\n",
    "    \n",
    "  "
   ]
  },
  {
   "cell_type": "markdown",
   "id": "7908c303",
   "metadata": {},
   "source": [
    "## A more cleaner approach to slice multiple variables "
   ]
  },
  {
   "cell_type": "code",
   "execution_count": 67,
   "id": "8f1e397a",
   "metadata": {},
   "outputs": [
    {
     "name": "stderr",
     "output_type": "stream",
     "text": [
      "C:\\Users\\chaud\\AppData\\Local\\Temp/ipykernel_27160/3477955103.py:8: UserWarning: Boolean Series key will be reindexed to match DataFrame index.\n",
      "  data[carat_condition][clarity_condition][cut_condition][price_condition]\n"
     ]
    },
    {
     "data": {
      "text/html": [
       "<div>\n",
       "<style scoped>\n",
       "    .dataframe tbody tr th:only-of-type {\n",
       "        vertical-align: middle;\n",
       "    }\n",
       "\n",
       "    .dataframe tbody tr th {\n",
       "        vertical-align: top;\n",
       "    }\n",
       "\n",
       "    .dataframe thead th {\n",
       "        text-align: right;\n",
       "    }\n",
       "</style>\n",
       "<table border=\"1\" class=\"dataframe\">\n",
       "  <thead>\n",
       "    <tr style=\"text-align: right;\">\n",
       "      <th></th>\n",
       "      <th>carat</th>\n",
       "      <th>clarity</th>\n",
       "      <th>cut</th>\n",
       "      <th>price</th>\n",
       "    </tr>\n",
       "  </thead>\n",
       "  <tbody>\n",
       "    <tr>\n",
       "      <th>92</th>\n",
       "      <td>0.35</td>\n",
       "      <td>1</td>\n",
       "      <td>1</td>\n",
       "      <td>893</td>\n",
       "    </tr>\n",
       "  </tbody>\n",
       "</table>\n",
       "</div>"
      ],
      "text/plain": [
       "    carat  clarity  cut  price\n",
       "92   0.35        1    1    893"
      ]
     },
     "execution_count": 67,
     "metadata": {},
     "output_type": "execute_result"
    }
   ],
   "source": [
    "data = diamonds.loc[ : , [ 'carat', 'clarity', 'cut', 'price']]\n",
    "\n",
    "carat_condition = diamonds.loc[ : , 'carat'] < 2\n",
    "clarity_condition  = diamonds.loc[ : , 'clarity'] == 1\n",
    "cut_condition  = diamonds.loc[ : , 'cut'] == 1\n",
    "price_condition= diamonds.loc[ : , 'price'] < 5000\n",
    "\n",
    "data[carat_condition][clarity_condition][cut_condition][price_condition]\n",
    "\n"
   ]
  },
  {
   "cell_type": "markdown",
   "id": "27931e19",
   "metadata": {},
   "source": [
    "# Auditing Data Quality and fixing features "
   ]
  },
  {
   "cell_type": "markdown",
   "id": "275d72c4",
   "metadata": {},
   "source": [
    "Auditing the data quality is the first step while working with data sets. \n",
    "There are three important data frame methods, .info(), .describe() and .value_counts()\n",
    "\n",
    "Link : https://pandas.pydata.org/pandas-docs/stable/reference/api/pandas.DataFrame.info.html"
   ]
  },
  {
   "cell_type": "markdown",
   "id": "2c59ac22",
   "metadata": {},
   "source": [
    "## \".info' method in dataframe"
   ]
  },
  {
   "cell_type": "markdown",
   "id": "86fdab95",
   "metadata": {},
   "source": [
    "\".info()\" gives details like variable type , no of variables, no of obs, memory usage "
   ]
  },
  {
   "cell_type": "code",
   "execution_count": 78,
   "id": "0737d2ec",
   "metadata": {},
   "outputs": [
    {
     "name": "stdout",
     "output_type": "stream",
     "text": [
      "<class 'pandas.core.frame.DataFrame'>\n",
      "RangeIndex: 409 entries, 0 to 408\n",
      "Data columns (total 8 columns):\n",
      " #   Column   Non-Null Count  Dtype  \n",
      "---  ------   --------------  -----  \n",
      " 0   Obs      409 non-null    object \n",
      " 1   carat    409 non-null    float64\n",
      " 2   color    409 non-null    int64  \n",
      " 3   clarity  409 non-null    int64  \n",
      " 4   cut      409 non-null    int64  \n",
      " 5   channel  409 non-null    object \n",
      " 6   store    409 non-null    object \n",
      " 7   price    409 non-null    int64  \n",
      "dtypes: float64(1), int64(4), object(3)\n",
      "memory usage: 25.7+ KB\n"
     ]
    },
    {
     "data": {
      "text/plain": [
       "'\\n______________________________________________________________________________________________________________________\\n\\nNote: All variables here are integer or float. However, store; channel; \\nobs and cut (ideally) are suppose to be characters.\\nThe variable cut has a yes or no observation, it can be categorized as character\\nBut, for future work its ideal to keep it in binary for, i.e 1 and 0.\\n\\n\\n______________________________________________________________________________________________________________________\\n\\n'"
      ]
     },
     "execution_count": 78,
     "metadata": {},
     "output_type": "execute_result"
    }
   ],
   "source": [
    "diamonds.info()\n",
    "\n",
    "\"\"\"\n",
    "______________________________________________________________________________________________________________________\n",
    "\n",
    "Note: All variables here are integer or float. However, store; channel; \n",
    "obs and cut (ideally) are suppose to be characters.\n",
    "The variable cut has a yes or no observation, it can be categorized as character\n",
    "But, for future work its ideal to keep it in binary for, i.e 1 and 0.\n",
    "\n",
    "\n",
    "______________________________________________________________________________________________________________________\n",
    "\n",
    "\"\"\""
   ]
  },
  {
   "cell_type": "markdown",
   "id": "1c5dd2fd",
   "metadata": {},
   "source": [
    "## Changing variable types "
   ]
  },
  {
   "cell_type": "markdown",
   "id": "7bf87230",
   "metadata": {},
   "source": [
    "___________________________________________________________________________________________________________________________\n",
    "Inorder to change variable types in pandas, we can use dictionaries.\n",
    "The following method can be used:\n",
    "\n",
    "{\"feature\" : data type,     # feature 1\n",
    " \"feature\" : data type,     # feature 2\n",
    " ...}  \n",
    " \n",
    " once, a dictionary is created,  import the diamonds dataset one more time, reading in the data types using the dtypes = data_type argument from pd.read_excel( ).\n",
    " __________________________________________________________________________________________________________________________"
   ]
  },
  {
   "cell_type": "code",
   "execution_count": 76,
   "id": "cd167fe9",
   "metadata": {},
   "outputs": [
    {
     "name": "stdout",
     "output_type": "stream",
     "text": [
      "<class 'pandas.core.frame.DataFrame'>\n",
      "RangeIndex: 409 entries, 0 to 408\n",
      "Data columns (total 8 columns):\n",
      " #   Column   Non-Null Count  Dtype  \n",
      "---  ------   --------------  -----  \n",
      " 0   Obs      409 non-null    object \n",
      " 1   carat    409 non-null    float64\n",
      " 2   color    409 non-null    int64  \n",
      " 3   clarity  409 non-null    int64  \n",
      " 4   cut      409 non-null    int64  \n",
      " 5   channel  409 non-null    object \n",
      " 6   store    409 non-null    object \n",
      " 7   price    409 non-null    int64  \n",
      "dtypes: float64(1), int64(4), object(3)\n",
      "memory usage: 25.7+ KB\n"
     ]
    }
   ],
   "source": [
    "data_types = {'Obs': str,\n",
    "'store' : str,\n",
    "'channel' : str}\n",
    "\n",
    "diamonds = pd.read_excel(io = file,\n",
    "                        sheet_name = 'diamonds',\n",
    "                        header = 0,\n",
    "                        dtype = data_types)\n",
    "diamonds.info()"
   ]
  },
  {
   "cell_type": "markdown",
   "id": "49b42ad7",
   "metadata": {},
   "source": [
    "___________________________________________________________________________________________________________________________\n",
    "Note that Python interpreted our string conversions as type object. \n",
    "This is normal, and stems from the fact that strings are the most fundamental of data types in Python.\n",
    "When Python is confused about a feature's data type, such as when a string conversion takes place, \n",
    "it defaults to the type object. This is because strings can represent virtually anything.\n",
    "___________________________________________________________________________________________________________________________"
   ]
  },
  {
   "cell_type": "markdown",
   "id": "a0909fe6",
   "metadata": {},
   "source": [
    "## Descriptive Statistic using '.describe()'"
   ]
  },
  {
   "cell_type": "markdown",
   "id": "ef69771f",
   "metadata": {},
   "source": [
    "_________________________________________________________________________________________________________________\n",
    "'.describe()' is used to return the descriptive statistics of all variables which are either integer or floats.\n",
    "But, when the descriptive statistics is printed, most times it will be upto 4 or 5 decimal places \n",
    "thus, use '.round()' method to remove decimal places.\n",
    "__________________________________________________________________________________________________________________"
   ]
  },
  {
   "cell_type": "code",
   "execution_count": 80,
   "id": "ec721deb",
   "metadata": {},
   "outputs": [
    {
     "data": {
      "text/html": [
       "<div>\n",
       "<style scoped>\n",
       "    .dataframe tbody tr th:only-of-type {\n",
       "        vertical-align: middle;\n",
       "    }\n",
       "\n",
       "    .dataframe tbody tr th {\n",
       "        vertical-align: top;\n",
       "    }\n",
       "\n",
       "    .dataframe thead th {\n",
       "        text-align: right;\n",
       "    }\n",
       "</style>\n",
       "<table border=\"1\" class=\"dataframe\">\n",
       "  <thead>\n",
       "    <tr style=\"text-align: right;\">\n",
       "      <th></th>\n",
       "      <th>carat</th>\n",
       "      <th>color</th>\n",
       "      <th>clarity</th>\n",
       "      <th>cut</th>\n",
       "      <th>price</th>\n",
       "    </tr>\n",
       "  </thead>\n",
       "  <tbody>\n",
       "    <tr>\n",
       "      <th>count</th>\n",
       "      <td>409.000000</td>\n",
       "      <td>409.000000</td>\n",
       "      <td>409.000000</td>\n",
       "      <td>409.000000</td>\n",
       "      <td>409.000000</td>\n",
       "    </tr>\n",
       "    <tr>\n",
       "      <th>mean</th>\n",
       "      <td>1.055968</td>\n",
       "      <td>4.227384</td>\n",
       "      <td>5.056235</td>\n",
       "      <td>0.376528</td>\n",
       "      <td>6488.229829</td>\n",
       "    </tr>\n",
       "    <tr>\n",
       "      <th>std</th>\n",
       "      <td>0.418013</td>\n",
       "      <td>1.810815</td>\n",
       "      <td>1.573141</td>\n",
       "      <td>0.485108</td>\n",
       "      <td>4414.425161</td>\n",
       "    </tr>\n",
       "    <tr>\n",
       "      <th>min</th>\n",
       "      <td>0.320000</td>\n",
       "      <td>1.000000</td>\n",
       "      <td>1.000000</td>\n",
       "      <td>0.000000</td>\n",
       "      <td>878.000000</td>\n",
       "    </tr>\n",
       "    <tr>\n",
       "      <th>25%</th>\n",
       "      <td>0.720000</td>\n",
       "      <td>3.000000</td>\n",
       "      <td>4.000000</td>\n",
       "      <td>0.000000</td>\n",
       "      <td>3490.000000</td>\n",
       "    </tr>\n",
       "    <tr>\n",
       "      <th>50%</th>\n",
       "      <td>1.020000</td>\n",
       "      <td>4.000000</td>\n",
       "      <td>5.000000</td>\n",
       "      <td>0.000000</td>\n",
       "      <td>5550.000000</td>\n",
       "    </tr>\n",
       "    <tr>\n",
       "      <th>75%</th>\n",
       "      <td>1.210000</td>\n",
       "      <td>6.000000</td>\n",
       "      <td>6.000000</td>\n",
       "      <td>1.000000</td>\n",
       "      <td>8089.000000</td>\n",
       "    </tr>\n",
       "    <tr>\n",
       "      <th>max</th>\n",
       "      <td>2.480000</td>\n",
       "      <td>9.000000</td>\n",
       "      <td>9.000000</td>\n",
       "      <td>1.000000</td>\n",
       "      <td>27575.000000</td>\n",
       "    </tr>\n",
       "  </tbody>\n",
       "</table>\n",
       "</div>"
      ],
      "text/plain": [
       "            carat       color     clarity         cut         price\n",
       "count  409.000000  409.000000  409.000000  409.000000    409.000000\n",
       "mean     1.055968    4.227384    5.056235    0.376528   6488.229829\n",
       "std      0.418013    1.810815    1.573141    0.485108   4414.425161\n",
       "min      0.320000    1.000000    1.000000    0.000000    878.000000\n",
       "25%      0.720000    3.000000    4.000000    0.000000   3490.000000\n",
       "50%      1.020000    4.000000    5.000000    0.000000   5550.000000\n",
       "75%      1.210000    6.000000    6.000000    1.000000   8089.000000\n",
       "max      2.480000    9.000000    9.000000    1.000000  27575.000000"
      ]
     },
     "execution_count": 80,
     "metadata": {},
     "output_type": "execute_result"
    }
   ],
   "source": [
    "diamonds.describe()\n"
   ]
  },
  {
   "cell_type": "code",
   "execution_count": 82,
   "id": "b12ec841",
   "metadata": {},
   "outputs": [
    {
     "data": {
      "text/html": [
       "<div>\n",
       "<style scoped>\n",
       "    .dataframe tbody tr th:only-of-type {\n",
       "        vertical-align: middle;\n",
       "    }\n",
       "\n",
       "    .dataframe tbody tr th {\n",
       "        vertical-align: top;\n",
       "    }\n",
       "\n",
       "    .dataframe thead th {\n",
       "        text-align: right;\n",
       "    }\n",
       "</style>\n",
       "<table border=\"1\" class=\"dataframe\">\n",
       "  <thead>\n",
       "    <tr style=\"text-align: right;\">\n",
       "      <th></th>\n",
       "      <th>carat</th>\n",
       "      <th>color</th>\n",
       "      <th>clarity</th>\n",
       "      <th>cut</th>\n",
       "      <th>price</th>\n",
       "    </tr>\n",
       "  </thead>\n",
       "  <tbody>\n",
       "    <tr>\n",
       "      <th>count</th>\n",
       "      <td>409.00</td>\n",
       "      <td>409.00</td>\n",
       "      <td>409.00</td>\n",
       "      <td>409.00</td>\n",
       "      <td>409.00</td>\n",
       "    </tr>\n",
       "    <tr>\n",
       "      <th>mean</th>\n",
       "      <td>1.06</td>\n",
       "      <td>4.23</td>\n",
       "      <td>5.06</td>\n",
       "      <td>0.38</td>\n",
       "      <td>6488.23</td>\n",
       "    </tr>\n",
       "    <tr>\n",
       "      <th>std</th>\n",
       "      <td>0.42</td>\n",
       "      <td>1.81</td>\n",
       "      <td>1.57</td>\n",
       "      <td>0.49</td>\n",
       "      <td>4414.43</td>\n",
       "    </tr>\n",
       "    <tr>\n",
       "      <th>min</th>\n",
       "      <td>0.32</td>\n",
       "      <td>1.00</td>\n",
       "      <td>1.00</td>\n",
       "      <td>0.00</td>\n",
       "      <td>878.00</td>\n",
       "    </tr>\n",
       "    <tr>\n",
       "      <th>25%</th>\n",
       "      <td>0.72</td>\n",
       "      <td>3.00</td>\n",
       "      <td>4.00</td>\n",
       "      <td>0.00</td>\n",
       "      <td>3490.00</td>\n",
       "    </tr>\n",
       "    <tr>\n",
       "      <th>50%</th>\n",
       "      <td>1.02</td>\n",
       "      <td>4.00</td>\n",
       "      <td>5.00</td>\n",
       "      <td>0.00</td>\n",
       "      <td>5550.00</td>\n",
       "    </tr>\n",
       "    <tr>\n",
       "      <th>75%</th>\n",
       "      <td>1.21</td>\n",
       "      <td>6.00</td>\n",
       "      <td>6.00</td>\n",
       "      <td>1.00</td>\n",
       "      <td>8089.00</td>\n",
       "    </tr>\n",
       "    <tr>\n",
       "      <th>max</th>\n",
       "      <td>2.48</td>\n",
       "      <td>9.00</td>\n",
       "      <td>9.00</td>\n",
       "      <td>1.00</td>\n",
       "      <td>27575.00</td>\n",
       "    </tr>\n",
       "  </tbody>\n",
       "</table>\n",
       "</div>"
      ],
      "text/plain": [
       "        carat   color  clarity     cut     price\n",
       "count  409.00  409.00   409.00  409.00    409.00\n",
       "mean     1.06    4.23     5.06    0.38   6488.23\n",
       "std      0.42    1.81     1.57    0.49   4414.43\n",
       "min      0.32    1.00     1.00    0.00    878.00\n",
       "25%      0.72    3.00     4.00    0.00   3490.00\n",
       "50%      1.02    4.00     5.00    0.00   5550.00\n",
       "75%      1.21    6.00     6.00    1.00   8089.00\n",
       "max      2.48    9.00     9.00    1.00  27575.00"
      ]
     },
     "execution_count": 82,
     "metadata": {},
     "output_type": "execute_result"
    }
   ],
   "source": [
    "diamonds.describe().round(2)\n",
    "## diamonds.describe(include = 'number').round(decimals = 2)"
   ]
  },
  {
   "cell_type": "markdown",
   "id": "cdbb97f6",
   "metadata": {},
   "source": [
    "____________________________________________________________________________________________________________\n",
    "\n",
    "the \".describe()\" has an argument called as 'include'.\n",
    "this helps to set the data type of the variables, for which we want to see summary\n",
    "we can use number, for integers and floats. where as for strings we can use object.\n",
    "However, this argument doesnot give much information about abjects.\n",
    "\n",
    "_____________________________________________________________________________________________________________"
   ]
  },
  {
   "cell_type": "code",
   "execution_count": 86,
   "id": "e33101c1",
   "metadata": {},
   "outputs": [
    {
     "data": {
      "text/html": [
       "<div>\n",
       "<style scoped>\n",
       "    .dataframe tbody tr th:only-of-type {\n",
       "        vertical-align: middle;\n",
       "    }\n",
       "\n",
       "    .dataframe tbody tr th {\n",
       "        vertical-align: top;\n",
       "    }\n",
       "\n",
       "    .dataframe thead th {\n",
       "        text-align: right;\n",
       "    }\n",
       "</style>\n",
       "<table border=\"1\" class=\"dataframe\">\n",
       "  <thead>\n",
       "    <tr style=\"text-align: right;\">\n",
       "      <th></th>\n",
       "      <th>Obs</th>\n",
       "      <th>channel</th>\n",
       "      <th>store</th>\n",
       "    </tr>\n",
       "  </thead>\n",
       "  <tbody>\n",
       "    <tr>\n",
       "      <th>count</th>\n",
       "      <td>409</td>\n",
       "      <td>409</td>\n",
       "      <td>409</td>\n",
       "    </tr>\n",
       "    <tr>\n",
       "      <th>unique</th>\n",
       "      <td>409</td>\n",
       "      <td>3</td>\n",
       "      <td>11</td>\n",
       "    </tr>\n",
       "    <tr>\n",
       "      <th>top</th>\n",
       "      <td>1</td>\n",
       "      <td>2</td>\n",
       "      <td>10</td>\n",
       "    </tr>\n",
       "    <tr>\n",
       "      <th>freq</th>\n",
       "      <td>1</td>\n",
       "      <td>318</td>\n",
       "      <td>211</td>\n",
       "    </tr>\n",
       "  </tbody>\n",
       "</table>\n",
       "</div>"
      ],
      "text/plain": [
       "        Obs channel store\n",
       "count   409     409   409\n",
       "unique  409       3    11\n",
       "top       1       2    10\n",
       "freq      1     318   211"
      ]
     },
     "execution_count": 86,
     "metadata": {},
     "output_type": "execute_result"
    }
   ],
   "source": [
    "diamonds.describe(include = 'object')"
   ]
  },
  {
   "cell_type": "markdown",
   "id": "afab2692",
   "metadata": {},
   "source": [
    "## 'value_counts' method "
   ]
  },
  {
   "cell_type": "markdown",
   "id": "2256f0cd",
   "metadata": {},
   "source": [
    "_______________________________________________________________________________________________________________________\n",
    "This gives us very limited information, like unique observations, frequency. but no anaysis can be drawn from the above.\n",
    "Thus, value_counts() is used to do further analysis for dtypes = objects aswell as for some numbers.\n",
    "\n",
    "diamonds[variablename].value_counts(normalize = False,\n",
    "                                 sort      = False,\n",
    "                                 ascending = False)\n",
    "\n",
    "\n",
    "NOTE ABOUT THE DOT BEFORE THE ARGUMENT\n",
    "\n",
    "\n",
    "    \n",
    "normalize bool ------- default False\n",
    "Return proportions rather than frequencies.\n",
    "\n",
    "sort ---------  bool, default True\n",
    ".\n",
    "\n",
    "ascending -------------- bool, default False  Sort in ascending order.\n",
    "________________________________________________________________________________________________________________________"
   ]
  },
  {
   "cell_type": "markdown",
   "id": "f04fef2a",
   "metadata": {},
   "source": [
    "Normalize returns the proportions "
   ]
  },
  {
   "cell_type": "code",
   "execution_count": 119,
   "id": "36eabf8b",
   "metadata": {},
   "outputs": [
    {
     "data": {
      "text/plain": [
       "store\n",
       "10       0.515892\n",
       "11       0.261614\n",
       "3        0.036675\n",
       "7        0.034230\n",
       "6        0.031785\n",
       "1        0.026895\n",
       "9        0.022005\n",
       "2        0.019560\n",
       "4        0.017115\n",
       "5        0.017115\n",
       "8        0.017115\n",
       "dtype: float64"
      ]
     },
     "execution_count": 119,
     "metadata": {},
     "output_type": "execute_result"
    }
   ],
   "source": [
    "diamonds[    ['store']    ].value_counts(normalize = True, sort = True, ascending = False)"
   ]
  },
  {
   "cell_type": "code",
   "execution_count": 98,
   "id": "a0b20051",
   "metadata": {},
   "outputs": [
    {
     "data": {
      "text/plain": [
       "2    0.777506\n",
       "1    0.117359\n",
       "0    0.105134\n",
       "Name: channel, dtype: float64"
      ]
     },
     "execution_count": 98,
     "metadata": {},
     "output_type": "execute_result"
    }
   ],
   "source": [
    "diamonds['channel'].value_counts(normalize = True, sort = True, ascending = False)"
   ]
  },
  {
   "cell_type": "markdown",
   "id": "9b65a756",
   "metadata": {},
   "source": [
    "### Applying value_counts to integer variables "
   ]
  },
  {
   "cell_type": "code",
   "execution_count": 101,
   "id": "f83b3f1d",
   "metadata": {},
   "outputs": [
    {
     "data": {
      "text/plain": [
       "7    0.159\n",
       "8    0.032\n",
       "9    0.005\n",
       "6    0.203\n",
       "5    0.259\n",
       "4    0.186\n",
       "3    0.103\n",
       "2    0.027\n",
       "1    0.027\n",
       "Name: clarity, dtype: float64"
      ]
     },
     "execution_count": 101,
     "metadata": {},
     "output_type": "execute_result"
    }
   ],
   "source": [
    "diamonds['clarity'].value_counts(normalize = True, sort = False, ascending = False).round(3)"
   ]
  },
  {
   "cell_type": "markdown",
   "id": "36fa5c34",
   "metadata": {},
   "source": [
    "# Working with missing values and method chaining "
   ]
  },
  {
   "cell_type": "markdown",
   "id": "1a1b8651",
   "metadata": {},
   "source": [
    "For working with missing values we first need to import a fresh file called diamonds missing value "
   ]
  },
  {
   "cell_type": "code",
   "execution_count": 105,
   "id": "a261bf30",
   "metadata": {},
   "outputs": [
    {
     "data": {
      "text/html": [
       "<div>\n",
       "<style scoped>\n",
       "    .dataframe tbody tr th:only-of-type {\n",
       "        vertical-align: middle;\n",
       "    }\n",
       "\n",
       "    .dataframe tbody tr th {\n",
       "        vertical-align: top;\n",
       "    }\n",
       "\n",
       "    .dataframe thead th {\n",
       "        text-align: right;\n",
       "    }\n",
       "</style>\n",
       "<table border=\"1\" class=\"dataframe\">\n",
       "  <thead>\n",
       "    <tr style=\"text-align: right;\">\n",
       "      <th></th>\n",
       "      <th>Obs</th>\n",
       "      <th>carat</th>\n",
       "      <th>color</th>\n",
       "      <th>clarity</th>\n",
       "      <th>cut</th>\n",
       "      <th>channel</th>\n",
       "      <th>store</th>\n",
       "      <th>price</th>\n",
       "    </tr>\n",
       "  </thead>\n",
       "  <tbody>\n",
       "    <tr>\n",
       "      <th>0</th>\n",
       "      <td>1</td>\n",
       "      <td>0.32</td>\n",
       "      <td>3.0</td>\n",
       "      <td>7.0</td>\n",
       "      <td>0.0</td>\n",
       "      <td>0</td>\n",
       "      <td>7</td>\n",
       "      <td>1375</td>\n",
       "    </tr>\n",
       "    <tr>\n",
       "      <th>1</th>\n",
       "      <td>2</td>\n",
       "      <td>0.35</td>\n",
       "      <td>5.0</td>\n",
       "      <td>7.0</td>\n",
       "      <td>1.0</td>\n",
       "      <td>0</td>\n",
       "      <td>7</td>\n",
       "      <td>1680</td>\n",
       "    </tr>\n",
       "    <tr>\n",
       "      <th>2</th>\n",
       "      <td>3</td>\n",
       "      <td>0.40</td>\n",
       "      <td>4.0</td>\n",
       "      <td>7.0</td>\n",
       "      <td>1.0</td>\n",
       "      <td>0</td>\n",
       "      <td>7</td>\n",
       "      <td>2245</td>\n",
       "    </tr>\n",
       "    <tr>\n",
       "      <th>3</th>\n",
       "      <td>4</td>\n",
       "      <td>0.59</td>\n",
       "      <td>5.0</td>\n",
       "      <td>7.0</td>\n",
       "      <td>0.0</td>\n",
       "      <td>0</td>\n",
       "      <td>3</td>\n",
       "      <td>2495</td>\n",
       "    </tr>\n",
       "    <tr>\n",
       "      <th>4</th>\n",
       "      <td>5</td>\n",
       "      <td>0.72</td>\n",
       "      <td>7.0</td>\n",
       "      <td>8.0</td>\n",
       "      <td>0.0</td>\n",
       "      <td>0</td>\n",
       "      <td>8</td>\n",
       "      <td>2699</td>\n",
       "    </tr>\n",
       "    <tr>\n",
       "      <th>...</th>\n",
       "      <td>...</td>\n",
       "      <td>...</td>\n",
       "      <td>...</td>\n",
       "      <td>...</td>\n",
       "      <td>...</td>\n",
       "      <td>...</td>\n",
       "      <td>...</td>\n",
       "      <td>...</td>\n",
       "    </tr>\n",
       "    <tr>\n",
       "      <th>404</th>\n",
       "      <td>421</td>\n",
       "      <td>2.00</td>\n",
       "      <td>3.0</td>\n",
       "      <td>4.0</td>\n",
       "      <td>0.0</td>\n",
       "      <td>2</td>\n",
       "      <td>10</td>\n",
       "      <td>21933</td>\n",
       "    </tr>\n",
       "    <tr>\n",
       "      <th>405</th>\n",
       "      <td>422</td>\n",
       "      <td>2.00</td>\n",
       "      <td>2.0</td>\n",
       "      <td>5.0</td>\n",
       "      <td>1.0</td>\n",
       "      <td>2</td>\n",
       "      <td>10</td>\n",
       "      <td>22431</td>\n",
       "    </tr>\n",
       "    <tr>\n",
       "      <th>406</th>\n",
       "      <td>423</td>\n",
       "      <td>2.00</td>\n",
       "      <td>3.0</td>\n",
       "      <td>4.0</td>\n",
       "      <td>0.0</td>\n",
       "      <td>2</td>\n",
       "      <td>10</td>\n",
       "      <td>22706</td>\n",
       "    </tr>\n",
       "    <tr>\n",
       "      <th>407</th>\n",
       "      <td>424</td>\n",
       "      <td>2.00</td>\n",
       "      <td>2.0</td>\n",
       "      <td>3.0</td>\n",
       "      <td>0.0</td>\n",
       "      <td>2</td>\n",
       "      <td>10</td>\n",
       "      <td>26623</td>\n",
       "    </tr>\n",
       "    <tr>\n",
       "      <th>408</th>\n",
       "      <td>425</td>\n",
       "      <td>2.00</td>\n",
       "      <td>1.0</td>\n",
       "      <td>4.0</td>\n",
       "      <td>0.0</td>\n",
       "      <td>2</td>\n",
       "      <td>10</td>\n",
       "      <td>27575</td>\n",
       "    </tr>\n",
       "  </tbody>\n",
       "</table>\n",
       "<p>409 rows × 8 columns</p>\n",
       "</div>"
      ],
      "text/plain": [
       "     Obs  carat  color  clarity  cut  channel  store  price\n",
       "0      1   0.32    3.0      7.0  0.0        0      7   1375\n",
       "1      2   0.35    5.0      7.0  1.0        0      7   1680\n",
       "2      3   0.40    4.0      7.0  1.0        0      7   2245\n",
       "3      4   0.59    5.0      7.0  0.0        0      3   2495\n",
       "4      5   0.72    7.0      8.0  0.0        0      8   2699\n",
       "..   ...    ...    ...      ...  ...      ...    ...    ...\n",
       "404  421   2.00    3.0      4.0  0.0        2     10  21933\n",
       "405  422   2.00    2.0      5.0  1.0        2     10  22431\n",
       "406  423   2.00    3.0      4.0  0.0        2     10  22706\n",
       "407  424   2.00    2.0      3.0  0.0        2     10  26623\n",
       "408  425   2.00    1.0      4.0  0.0        2     10  27575\n",
       "\n",
       "[409 rows x 8 columns]"
      ]
     },
     "execution_count": 105,
     "metadata": {},
     "output_type": "execute_result"
    }
   ],
   "source": [
    "file1 = \"./__datasets/diamonds_missing_values.xlsx\"\n",
    "\n",
    "diamonds_missing = pd.read_excel(io = file1, sheet_name = 'missing_diamonds', header = 0)\n",
    "diamonds_missing"
   ]
  },
  {
   "cell_type": "markdown",
   "id": "88dd20a2",
   "metadata": {},
   "source": [
    "After importing the data set, \n",
    "we need to check info, describe and change the data type, \n",
    "these are the first steps of cleaning data."
   ]
  },
  {
   "cell_type": "code",
   "execution_count": 112,
   "id": "2278869e",
   "metadata": {},
   "outputs": [
    {
     "name": "stdout",
     "output_type": "stream",
     "text": [
      "<class 'pandas.core.frame.DataFrame'>\n",
      "RangeIndex: 409 entries, 0 to 408\n",
      "Data columns (total 8 columns):\n",
      " #   Column   Non-Null Count  Dtype  \n",
      "---  ------   --------------  -----  \n",
      " 0   Obs      409 non-null    object \n",
      " 1   carat    400 non-null    float64\n",
      " 2   color    396 non-null    float64\n",
      " 3   clarity  402 non-null    float64\n",
      " 4   cut      399 non-null    float64\n",
      " 5   channel  409 non-null    object \n",
      " 6   store    409 non-null    object \n",
      " 7   price    409 non-null    int64  \n",
      "dtypes: float64(4), int64(1), object(3)\n",
      "memory usage: 25.7+ KB\n"
     ]
    },
    {
     "data": {
      "text/html": [
       "<div>\n",
       "<style scoped>\n",
       "    .dataframe tbody tr th:only-of-type {\n",
       "        vertical-align: middle;\n",
       "    }\n",
       "\n",
       "    .dataframe tbody tr th {\n",
       "        vertical-align: top;\n",
       "    }\n",
       "\n",
       "    .dataframe thead th {\n",
       "        text-align: right;\n",
       "    }\n",
       "</style>\n",
       "<table border=\"1\" class=\"dataframe\">\n",
       "  <thead>\n",
       "    <tr style=\"text-align: right;\">\n",
       "      <th></th>\n",
       "      <th>Obs</th>\n",
       "      <th>carat</th>\n",
       "      <th>color</th>\n",
       "      <th>clarity</th>\n",
       "      <th>cut</th>\n",
       "      <th>channel</th>\n",
       "      <th>store</th>\n",
       "      <th>price</th>\n",
       "    </tr>\n",
       "  </thead>\n",
       "  <tbody>\n",
       "    <tr>\n",
       "      <th>0</th>\n",
       "      <td>1</td>\n",
       "      <td>0.32</td>\n",
       "      <td>3.0</td>\n",
       "      <td>7.0</td>\n",
       "      <td>0.0</td>\n",
       "      <td>0</td>\n",
       "      <td>7</td>\n",
       "      <td>1375</td>\n",
       "    </tr>\n",
       "    <tr>\n",
       "      <th>1</th>\n",
       "      <td>2</td>\n",
       "      <td>0.35</td>\n",
       "      <td>5.0</td>\n",
       "      <td>7.0</td>\n",
       "      <td>1.0</td>\n",
       "      <td>0</td>\n",
       "      <td>7</td>\n",
       "      <td>1680</td>\n",
       "    </tr>\n",
       "    <tr>\n",
       "      <th>2</th>\n",
       "      <td>3</td>\n",
       "      <td>0.40</td>\n",
       "      <td>4.0</td>\n",
       "      <td>7.0</td>\n",
       "      <td>1.0</td>\n",
       "      <td>0</td>\n",
       "      <td>7</td>\n",
       "      <td>2245</td>\n",
       "    </tr>\n",
       "    <tr>\n",
       "      <th>3</th>\n",
       "      <td>4</td>\n",
       "      <td>0.59</td>\n",
       "      <td>5.0</td>\n",
       "      <td>7.0</td>\n",
       "      <td>0.0</td>\n",
       "      <td>0</td>\n",
       "      <td>3</td>\n",
       "      <td>2495</td>\n",
       "    </tr>\n",
       "    <tr>\n",
       "      <th>4</th>\n",
       "      <td>5</td>\n",
       "      <td>0.72</td>\n",
       "      <td>7.0</td>\n",
       "      <td>8.0</td>\n",
       "      <td>0.0</td>\n",
       "      <td>0</td>\n",
       "      <td>8</td>\n",
       "      <td>2699</td>\n",
       "    </tr>\n",
       "    <tr>\n",
       "      <th>...</th>\n",
       "      <td>...</td>\n",
       "      <td>...</td>\n",
       "      <td>...</td>\n",
       "      <td>...</td>\n",
       "      <td>...</td>\n",
       "      <td>...</td>\n",
       "      <td>...</td>\n",
       "      <td>...</td>\n",
       "    </tr>\n",
       "    <tr>\n",
       "      <th>404</th>\n",
       "      <td>421</td>\n",
       "      <td>2.00</td>\n",
       "      <td>3.0</td>\n",
       "      <td>4.0</td>\n",
       "      <td>0.0</td>\n",
       "      <td>2</td>\n",
       "      <td>10</td>\n",
       "      <td>21933</td>\n",
       "    </tr>\n",
       "    <tr>\n",
       "      <th>405</th>\n",
       "      <td>422</td>\n",
       "      <td>2.00</td>\n",
       "      <td>2.0</td>\n",
       "      <td>5.0</td>\n",
       "      <td>1.0</td>\n",
       "      <td>2</td>\n",
       "      <td>10</td>\n",
       "      <td>22431</td>\n",
       "    </tr>\n",
       "    <tr>\n",
       "      <th>406</th>\n",
       "      <td>423</td>\n",
       "      <td>2.00</td>\n",
       "      <td>3.0</td>\n",
       "      <td>4.0</td>\n",
       "      <td>0.0</td>\n",
       "      <td>2</td>\n",
       "      <td>10</td>\n",
       "      <td>22706</td>\n",
       "    </tr>\n",
       "    <tr>\n",
       "      <th>407</th>\n",
       "      <td>424</td>\n",
       "      <td>2.00</td>\n",
       "      <td>2.0</td>\n",
       "      <td>3.0</td>\n",
       "      <td>0.0</td>\n",
       "      <td>2</td>\n",
       "      <td>10</td>\n",
       "      <td>26623</td>\n",
       "    </tr>\n",
       "    <tr>\n",
       "      <th>408</th>\n",
       "      <td>425</td>\n",
       "      <td>2.00</td>\n",
       "      <td>1.0</td>\n",
       "      <td>4.0</td>\n",
       "      <td>0.0</td>\n",
       "      <td>2</td>\n",
       "      <td>10</td>\n",
       "      <td>27575</td>\n",
       "    </tr>\n",
       "  </tbody>\n",
       "</table>\n",
       "<p>409 rows × 8 columns</p>\n",
       "</div>"
      ],
      "text/plain": [
       "     Obs  carat  color  clarity  cut channel store  price\n",
       "0      1   0.32    3.0      7.0  0.0       0     7   1375\n",
       "1      2   0.35    5.0      7.0  1.0       0     7   1680\n",
       "2      3   0.40    4.0      7.0  1.0       0     7   2245\n",
       "3      4   0.59    5.0      7.0  0.0       0     3   2495\n",
       "4      5   0.72    7.0      8.0  0.0       0     8   2699\n",
       "..   ...    ...    ...      ...  ...     ...   ...    ...\n",
       "404  421   2.00    3.0      4.0  0.0       2    10  21933\n",
       "405  422   2.00    2.0      5.0  1.0       2    10  22431\n",
       "406  423   2.00    3.0      4.0  0.0       2    10  22706\n",
       "407  424   2.00    2.0      3.0  0.0       2    10  26623\n",
       "408  425   2.00    1.0      4.0  0.0       2    10  27575\n",
       "\n",
       "[409 rows x 8 columns]"
      ]
     },
     "execution_count": 112,
     "metadata": {},
     "output_type": "execute_result"
    }
   ],
   "source": [
    "diamonds_missing.info()\n",
    "\n",
    "## Changing store, channel, obs to objects as they are not categorized under the right variable type\n",
    "\n",
    "## Use dictionary to first create an object \n",
    "\n",
    "data_conv = {'Obs': str, 'store' : str, 'channel'  : str}\n",
    "\n",
    "## Now, import the data set again and set dtype = data_conv\n",
    "\n",
    "diamonds_missing = pd.read_excel(io = file1, sheet_name = 'missing_diamonds', header = 0, dtype = data_conv)\n",
    "diamonds_missing"
   ]
  },
  {
   "cell_type": "markdown",
   "id": "e71e4625",
   "metadata": {},
   "source": [
    "Imputed value is an important concept in data analysis, its an estimated assumed value for data points which are missing. this is one of the technique of dealing with missing values. \n",
    "\n",
    "ways to deal with missing values:\n",
    "\n",
    "1. Remove the observations which have missing values \n",
    "2. Engineering flag features \n",
    "3. Imputed value, say for instance replace the missing value with the mean  \n",
    "4. Develop an algorithm based on the available information\n",
    "\n"
   ]
  },
  {
   "cell_type": "markdown",
   "id": "eaef8f9b",
   "metadata": {},
   "source": [
    "## Dropping missing values "
   ]
  },
  {
   "cell_type": "markdown",
   "id": "7043225d",
   "metadata": {},
   "source": [
    "variables can be dropped by slicing technique.\n",
    "\n",
    "However, its a very bad strategy and must be the resort. "
   ]
  },
  {
   "cell_type": "markdown",
   "id": "24a5f5bb",
   "metadata": {},
   "source": [
    "## Method chaining "
   ]
  },
  {
   "cell_type": "markdown",
   "id": "34009715",
   "metadata": {},
   "source": [
    "It is a very useful technique for missing value detection. \n",
    "We can also benefit from visualizing the distributions of features affected by missing values with the matplotlib and seaborn packages. \n",
    "All method chaining arguments are preceded with a dot.\n",
    "\n",
    "There are three steps in method chaining:\n",
    "\n",
    "Step 1: print the data set\n",
    "                print(dataset)\n",
    "\n",
    "Step 2: check for any null values\n",
    "                print(dataset.isnull())\n",
    "\n",
    "Step 3: Taking the results of isnull( ), and then aggregating column-wise with any( ) to see which features are affected by missing values.\n",
    "\n",
    "                print(dataset.isnull().any(axis = 0))\n",
    "                \n",
    "\n",
    "This will returns True or False, depending on whether or not a feature contains missing values."
   ]
  },
  {
   "cell_type": "code",
   "execution_count": 123,
   "id": "b2a015d4",
   "metadata": {
    "scrolled": true
   },
   "outputs": [
    {
     "name": "stdout",
     "output_type": "stream",
     "text": [
      "Obs        False\n",
      "carat       True\n",
      "color       True\n",
      "clarity     True\n",
      "cut         True\n",
      "channel    False\n",
      "store      False\n",
      "price      False\n",
      "m_carat    False\n",
      "dtype: bool\n"
     ]
    }
   ],
   "source": [
    "print(diamonds_missing.isnull().any(axis = 0))"
   ]
  },
  {
   "cell_type": "markdown",
   "id": "0c7557cf",
   "metadata": {},
   "source": [
    "Here color, clarity and cut has missing values"
   ]
  },
  {
   "cell_type": "markdown",
   "id": "696db7cf",
   "metadata": {},
   "source": [
    "While, dealing with missing values, it is important that we check what percentage of the data has missing values.\n",
    "\n",
    "if the missing values is less than 5%, we can drop or replace them with mean. "
   ]
  },
  {
   "cell_type": "markdown",
   "id": "ec4572dc",
   "metadata": {},
   "source": [
    "## Flagging missing values"
   ]
  },
  {
   "cell_type": "markdown",
   "id": "3178dce6",
   "metadata": {},
   "source": [
    "In this method we will form a new column, for the variable with missing values. Each observation will have 1 or 0. \n",
    "where 1 are observations with missing values.\n",
    "\n",
    "Practice - Develop a method chain that:\n",
    "\n",
    "Takes the carat column\n",
    "\n",
    "Checks each data point for missing values (True or False)\n",
    "\n",
    "Converts the True/False data to integers.\n",
    "\n",
    "here, '.astype(int)' will assign 0 or 1 to the variable. Also we are renaming the variable as m_variable (m standing for missing value)"
   ]
  },
  {
   "cell_type": "code",
   "execution_count": 129,
   "id": "4e35c130",
   "metadata": {},
   "outputs": [
    {
     "name": "stdout",
     "output_type": "stream",
     "text": [
      "     Obs  carat  color  clarity  cut channel store  price  m_carat\n",
      "0      1   0.32    3.0      7.0  0.0       0     7   1375        0\n",
      "1      2   0.35    5.0      7.0  1.0       0     7   1680        0\n",
      "2      3   0.40    4.0      7.0  1.0       0     7   2245        0\n",
      "3      4   0.59    5.0      7.0  0.0       0     3   2495        0\n",
      "4      5   0.72    7.0      8.0  0.0       0     8   2699        0\n",
      "..   ...    ...    ...      ...  ...     ...   ...    ...      ...\n",
      "404  421   2.00    3.0      4.0  0.0       2    10  21933        0\n",
      "405  422   2.00    2.0      5.0  1.0       2    10  22431        0\n",
      "406  423   2.00    3.0      4.0  0.0       2    10  22706        0\n",
      "407  424   2.00    2.0      3.0  0.0       2    10  26623        0\n",
      "408  425   2.00    1.0      4.0  0.0       2    10  27575        0\n",
      "\n",
      "[409 rows x 9 columns]\n"
     ]
    },
    {
     "data": {
      "text/plain": [
       "Index(['Obs', 'carat', 'color', 'clarity', 'cut', 'channel', 'store', 'price',\n",
       "       'm_carat'],\n",
       "      dtype='object')"
      ]
     },
     "execution_count": 129,
     "metadata": {},
     "output_type": "execute_result"
    }
   ],
   "source": [
    "diamonds_missing['m_carat'] = diamonds.loc[ : , 'carat'].isnull().astype(int)\n",
    "\n",
    "print(diamonds_missing)\n",
    "\n",
    "diamonds_missing.columns"
   ]
  },
  {
   "cell_type": "markdown",
   "id": "58a2c1c5",
   "metadata": {},
   "source": [
    "\n",
    "## For loop for flagging and creating  columns for all variables with      missing values\n"
   ]
  },
  {
   "cell_type": "markdown",
   "id": "13a2b1e9",
   "metadata": {},
   "source": [
    "-----------------------------------------------------------------------------------------"
   ]
  },
  {
   "cell_type": "code",
   "execution_count": 146,
   "id": "66fe9376",
   "metadata": {},
   "outputs": [
    {
     "name": "stdout",
     "output_type": "stream",
     "text": [
      "Index(['Obs', 'carat', 'color', 'clarity', 'cut', 'channel', 'store', 'price',\n",
      "       'm_carat', 'm_color', 'm_clarity', 'm_cut', 'mv_sum'],\n",
      "      dtype='object')\n",
      "     Obs  carat  color  clarity  cut channel store  price  m_carat  m_color  \\\n",
      "0      1   0.32    3.0      7.0  0.0       0     7   1375        0        0   \n",
      "1      2   0.35    5.0      7.0  1.0       0     7   1680        0        0   \n",
      "2      3   0.40    4.0      7.0  1.0       0     7   2245        0        0   \n",
      "3      4   0.59    5.0      7.0  0.0       0     3   2495        0        0   \n",
      "4      5   0.72    7.0      8.0  0.0       0     8   2699        0        0   \n",
      "..   ...    ...    ...      ...  ...     ...   ...    ...      ...      ...   \n",
      "404  421   2.00    3.0      4.0  0.0       2    10  21933        0        0   \n",
      "405  422   2.00    2.0      5.0  1.0       2    10  22431        0        0   \n",
      "406  423   2.00    3.0      4.0  0.0       2    10  22706        0        0   \n",
      "407  424   2.00    2.0      3.0  0.0       2    10  26623        0        0   \n",
      "408  425   2.00    1.0      4.0  0.0       2    10  27575        0        0   \n",
      "\n",
      "     m_clarity  m_cut  mv_sum  \n",
      "0            0      0       0  \n",
      "1            0      0       0  \n",
      "2            0      0       0  \n",
      "3            0      0       0  \n",
      "4            0      0       0  \n",
      "..         ...    ...     ...  \n",
      "404          0      0       0  \n",
      "405          0      0       0  \n",
      "406          0      0       0  \n",
      "407          0      0       0  \n",
      "408          0      0       0  \n",
      "\n",
      "[409 rows x 13 columns]\n"
     ]
    }
   ],
   "source": [
    "DATAFRAME = diamonds_missing\n",
    "\n",
    "\n",
    "# developing a loop to automatically flag missing values\n",
    "for col in diamonds_missing:\n",
    "\n",
    "    if DATAFRAME[col].isnull().astype(int).sum() > 0:\n",
    "        DATAFRAME['m_'+col] = DATAFRAME[col].isnull().astype(int)\n",
    "\n",
    "\n",
    "# printing results\n",
    "print(diamonds_missing.columns)\n",
    "print(diamonds_missing)"
   ]
  },
  {
   "cell_type": "markdown",
   "id": "27c60174",
   "metadata": {},
   "source": [
    "## How many missing values are there for each variable\n",
    "## Creating a new column of sum of missing values "
   ]
  },
  {
   "cell_type": "code",
   "execution_count": 147,
   "id": "53fbb05d",
   "metadata": {},
   "outputs": [
    {
     "name": "stdout",
     "output_type": "stream",
     "text": [
      "\n",
      "Original Missing Value Counts:\n",
      "------------------------------\n",
      "Obs           0\n",
      "carat         9\n",
      "color        13\n",
      "clarity       7\n",
      "cut          10\n",
      "channel       0\n",
      "store         0\n",
      "price         0\n",
      "m_carat       0\n",
      "m_color       0\n",
      "m_clarity     0\n",
      "m_cut         0\n",
      "mv_sum        0\n",
      "dtype: int64\n",
      "\n",
      "\n",
      "Sums of Missing Value Flags\n",
      "--------------------------\n",
      "m_color      13\n",
      "m_clarity     7\n",
      "m_cut        10\n",
      "mv_sum       39\n",
      "dtype: int64\n",
      "\n",
      "\n",
      "\n",
      "\n",
      "Number of Missing Values per Observation (Pct)\n",
      "----------------------------------------------\n",
      "2     0.24\n",
      "1     9.05\n",
      "0    90.71\n",
      "Name: mv_sum, dtype: float64\n",
      "\n",
      "     Obs  carat  color  clarity  cut channel store  price  m_carat  m_color  \\\n",
      "0      1   0.32    3.0      7.0  0.0       0     7   1375        0        0   \n",
      "1      2   0.35    5.0      7.0  1.0       0     7   1680        0        0   \n",
      "2      3   0.40    4.0      7.0  1.0       0     7   2245        0        0   \n",
      "3      4   0.59    5.0      7.0  0.0       0     3   2495        0        0   \n",
      "4      5   0.72    7.0      8.0  0.0       0     8   2699        0        0   \n",
      "..   ...    ...    ...      ...  ...     ...   ...    ...      ...      ...   \n",
      "404  421   2.00    3.0      4.0  0.0       2    10  21933        0        0   \n",
      "405  422   2.00    2.0      5.0  1.0       2    10  22431        0        0   \n",
      "406  423   2.00    3.0      4.0  0.0       2    10  22706        0        0   \n",
      "407  424   2.00    2.0      3.0  0.0       2    10  26623        0        0   \n",
      "408  425   2.00    1.0      4.0  0.0       2    10  27575        0        0   \n",
      "\n",
      "     m_clarity  m_cut  mv_sum  \n",
      "0            0      0       0  \n",
      "1            0      0       0  \n",
      "2            0      0       0  \n",
      "3            0      0       0  \n",
      "4            0      0       0  \n",
      "..         ...    ...     ...  \n",
      "404          0      0       0  \n",
      "405          0      0       0  \n",
      "406          0      0       0  \n",
      "407          0      0       0  \n",
      "408          0      0       0  \n",
      "\n",
      "[409 rows x 13 columns]\n"
     ]
    }
   ],
   "source": [
    "print(f\"\"\"\n",
    "Original Missing Value Counts:\n",
    "------------------------------\n",
    "{diamonds_missing.isnull().sum(axis = 0)}\n",
    "\n",
    "\n",
    "Sums of Missing Value Flags\n",
    "--------------------------\n",
    "{diamonds_missing.iloc[ : , -4: ].sum(axis = 0)}\n",
    "\n",
    "\"\"\")\n",
    "\n",
    "\n",
    "# creating a column to sum missing value flags\n",
    "diamonds_missing['mv_sum'] = diamonds_missing['m_carat'] + \\\n",
    "                     diamonds_missing['m_color'] + \\\n",
    "                     diamonds_missing['m_clarity'] + \\\n",
    "                     diamonds_missing['m_cut']\n",
    "\n",
    "\n",
    "# checking results\n",
    "print(f\"\"\"\n",
    "\n",
    "Number of Missing Values per Observation (Pct)\n",
    "----------------------------------------------\n",
    "{(diamonds_missing['mv_sum'].value_counts(normalize = True,\n",
    "                                sort = True,\n",
    "                                ascending = True)*100).round(2)}\n",
    "\"\"\")\n",
    "print(diamonds_missing)"
   ]
  },
  {
   "cell_type": "markdown",
   "id": "05945871",
   "metadata": {},
   "source": [
    "### Difference between any(axis = 0), astype(int), sum(axis = 0) , sum()"
   ]
  },
  {
   "cell_type": "markdown",
   "id": "4ae9ddd4",
   "metadata": {},
   "source": [
    " any(axis = 0) is used to return True or False for variables having missing values\n",
    " \n",
    " astype(int) is used to add a new column at the end with 1 and 0, where 1 represents missing value.\n",
    " \n",
    " sum(axis = 0) will return the sum of missing values for a given variable \n",
    " \n",
    " "
   ]
  },
  {
   "cell_type": "markdown",
   "id": "aa794b54",
   "metadata": {},
   "source": [
    "## Imputing Missing Values "
   ]
  },
  {
   "cell_type": "markdown",
   "id": "411cc028",
   "metadata": {},
   "source": [
    "Step 1: Make a copy of the dataset by using pd.DataFrame.copy\n",
    "\n",
    "Step 2: Drop the missing values by using .dropna()\n",
    "\n",
    "Step 3: check to see if all missing values have been dropped by using .isnull().sum()\n",
    "\n",
    "Step 4: Visualize the data using matplotlib.pyplot and seaborn \n",
    "\n",
    "Step 5: Analyze the mean and median and decide which one to use \n",
    "\n",
    "Step 6: Calculate the mean or the median \n",
    "\n",
    "Step 7: Fill missing values with either mean or median using fillna()"
   ]
  },
  {
   "cell_type": "markdown",
   "id": "84e40a8f",
   "metadata": {},
   "source": [
    "### Making a copy of the data set "
   ]
  },
  {
   "cell_type": "code",
   "execution_count": 150,
   "id": "07fd265e",
   "metadata": {},
   "outputs": [],
   "source": [
    "df_dropped = pd.DataFrame.copy(diamonds_missing)"
   ]
  },
  {
   "cell_type": "markdown",
   "id": "6f84fa63",
   "metadata": {},
   "source": [
    "### Dropping missing values"
   ]
  },
  {
   "cell_type": "code",
   "execution_count": 152,
   "id": "d3cb77c7",
   "metadata": {},
   "outputs": [],
   "source": [
    "df_dropped = df_dropped.dropna()"
   ]
  },
  {
   "cell_type": "markdown",
   "id": "df98a641",
   "metadata": {},
   "source": [
    "### Checking to see if all missing values have been dropped "
   ]
  },
  {
   "cell_type": "code",
   "execution_count": 154,
   "id": "8c251b44",
   "metadata": {},
   "outputs": [
    {
     "data": {
      "text/plain": [
       "Obs          0\n",
       "carat        0\n",
       "color        0\n",
       "clarity      0\n",
       "cut          0\n",
       "channel      0\n",
       "store        0\n",
       "price        0\n",
       "m_carat      0\n",
       "m_color      0\n",
       "m_clarity    0\n",
       "m_cut        0\n",
       "mv_sum       0\n",
       "dtype: int64"
      ]
     },
     "execution_count": 154,
     "metadata": {},
     "output_type": "execute_result"
    }
   ],
   "source": [
    "df_dropped.isnull().sum()"
   ]
  },
  {
   "cell_type": "markdown",
   "id": "c66f257a",
   "metadata": {},
   "source": [
    "###  Visualizing the dataset with dropped missing values "
   ]
  },
  {
   "cell_type": "markdown",
   "id": "fef0e117",
   "metadata": {},
   "source": [
    "\n",
    "\n",
    "seaborn.histplot(data=None, *, x=None, y=None, hue=None, weights=None, stat=’count’, bins=’auto’, binwidth=None, binrange=None, discrete=None, cumulative=False, common_bins=True, common_norm=True, multiple=’layer’, element=’bars’, fill=True, shrink=1, kde=False, kde_kws=None, line_kws=None, thresh=0, pthresh=None, pmax=None, cbar=False, cbar_ax=None, cbar_kws=None, palette=None, hue_order=None, hue_norm=None, color=None, log_scale=None, legend=True, ax=None, kwargs)**\n",
    "\n",
    "Parameters Information\n",
    "\n",
    "1. data : pandas.DataFrame, numpy.ndarray, mapping, or sequence – Here we provide the input data for the visualization\n",
    "\n",
    "2. x, y : vectors or keys in data – Through this parameter, we mention the x and y axes positions.\n",
    "\n",
    "3. hue : vector or key in data – This parameter helps in mapping of variables to color for plot.\n",
    "\n",
    "4. weights : vector or key in data – Weights help in understanding the impact of each data point for each bin’s count.\n",
    "\n",
    "5. stat : {“count”, “frequency”, “density”, “probability”} – These are the four types of statistic method that can be used for computing bin values.\n",
    "\n",
    "6. bins : str , number, vector, or a pair of such values – It’s the bin parameter used for specifying the number of bins.\n",
    "\n",
    "7. binwidth : umber or pair of numbers – Here we can set the width of the bin\n",
    "\n",
    "8. binrange : pair of numbers or a pair of pairs – Through this parameter, the lowest and highest value can be specified for edges.\n",
    "\n",
    "9. palette: string, list, dict, or matplotlib.colors.Colormap – We can choose the colors for mapping hue semantic.\n",
    "\n",
    "10. color : matplotlib color – This parameter enables us to choose a single color in case there is no hue mapping.\n",
    "\n",
    "11. kwargs – These are the keyword arguments\n",
    "\n",
    "https://machinelearningknowledge.ai/seaborn-histogram-plot-using-histplot-tutorial-for-beginners/#Syntax_of_Histogram_Function_in_Seaborn"
   ]
  },
  {
   "cell_type": "markdown",
   "id": "757474f2",
   "metadata": {},
   "source": [
    "#### Plotting the graph "
   ]
  },
  {
   "cell_type": "code",
   "execution_count": 161,
   "id": "fcc841c0",
   "metadata": {},
   "outputs": [
    {
     "data": {
      "text/plain": [
       "<AxesSubplot:xlabel='carat', ylabel='Count'>"
      ]
     },
     "execution_count": 161,
     "metadata": {},
     "output_type": "execute_result"
    },
    {
     "data": {
      "image/png": "[encoded data removed]",
      "text/plain": [
       "<Figure size 432x288 with 1 Axes>"
      ]
     },
     "metadata": {
      "needs_background": "light"
     },
     "output_type": "display_data"
    }
   ],
   "source": [
    "sns.histplot(data = df_dropped, x = 'carat', bins = 'fd', kde = False, color = 'black')"
   ]
  },
  {
   "cell_type": "markdown",
   "id": "bce2b0d6",
   "metadata": {},
   "source": [
    "#### Adding title and labels "
   ]
  },
  {
   "cell_type": "code",
   "execution_count": 171,
   "id": "1dfcf2b5",
   "metadata": {},
   "outputs": [
    {
     "data": {
      "image/png": "[encoded data removed]",
      "text/plain": [
       "<Figure size 576x360 with 1 Axes>"
      ]
     },
     "metadata": {
      "needs_background": "light"
     },
     "output_type": "display_data"
    }
   ],
   "source": [
    "fig, ax = plt.subplots(figsize = [8, 5])\n",
    "\n",
    "sns.histplot(data = df_dropped, x = 'carat', bins = 'fd', kde = False, color = 'black')\n",
    "plt.title(label = \"Distribution of Carat Weight\")\n",
    "plt.xlabel(xlabel = \"Carat Weight\")\n",
    "plt.ylabel(ylabel = \"Frequency\")\n",
    "\n",
    "plt.show()"
   ]
  },
  {
   "cell_type": "markdown",
   "id": "7160dd36",
   "metadata": {},
   "source": [
    "#### Analyzing the graph with mean and median "
   ]
  },
  {
   "cell_type": "code",
   "execution_count": 195,
   "id": "872b25fb",
   "metadata": {},
   "outputs": [
    {
     "data": {
      "image/png": "[encoded data removed]",
      "text/plain": [
       "<Figure size 576x360 with 1 Axes>"
      ]
     },
     "metadata": {
      "needs_background": "light"
     },
     "output_type": "display_data"
    }
   ],
   "source": [
    "fig, ax = plt.subplots(figsize = [8,5])\n",
    "\n",
    "sns.histplot(data = df_dropped, x = 'carat', kde = True, bins = 'fd', color = 'black')\n",
    "\n",
    "plt.title(label = \"Deistribution of carat weight\")\n",
    "plt.xlabel(xlabel = \"carat\")\n",
    "plt.ylabel(ylabel = \"Frequency\")\n",
    "\n",
    "## Adding vertical lines for mean and median \n",
    "\n",
    "plt.axvline(x = df_dropped['carat'].mean(), color = 'red')\n",
    "plt.axvline(x = df_dropped['carat'].median(), color = 'blue')\n",
    "\n",
    "plt.legend(labels = ['mean', 'median'])\n",
    "\n",
    "plt.tight_layout()\n",
    "plt.show()\n"
   ]
  },
  {
   "cell_type": "markdown",
   "id": "f760d106",
   "metadata": {},
   "source": [
    "### Choosing mean or median "
   ]
  },
  {
   "cell_type": "markdown",
   "id": "cc042e1e",
   "metadata": {},
   "source": [
    "1. Check for skewness in the data \n",
    "\n",
    "2. If the graph is skewed that means the data has outliers.\n",
    "\n",
    "3. Outliers impact mean, thus it is ideal to use median \n",
    "\n",
    "4. For normal distribution or symetric distribution, we can use the mean to impute values.\n"
   ]
  },
  {
   "cell_type": "markdown",
   "id": "8b04dc1e",
   "metadata": {},
   "source": [
    "### Calculating median and replacing it with fillna()"
   ]
  },
  {
   "cell_type": "markdown",
   "id": "ea3785bb",
   "metadata": {},
   "source": [
    "While replacing the na values we will use the original file, which is diamonds_missing "
   ]
  },
  {
   "cell_type": "code",
   "execution_count": 188,
   "id": "23072615",
   "metadata": {},
   "outputs": [
    {
     "data": {
      "text/plain": [
       "1.02"
      ]
     },
     "execution_count": 188,
     "metadata": {},
     "output_type": "execute_result"
    }
   ],
   "source": [
    "carat_median  = diamonds_missing['carat'].median()\n",
    "\n",
    "carat_median"
   ]
  },
  {
   "cell_type": "code",
   "execution_count": 193,
   "id": "ed0b1954",
   "metadata": {},
   "outputs": [],
   "source": [
    "diamonds_missing['carat'].fillna(value = carat_median, inplace = True)\n",
    "\n"
   ]
  },
  {
   "cell_type": "code",
   "execution_count": 194,
   "id": "5a11c6e9",
   "metadata": {},
   "outputs": [
    {
     "data": {
      "text/plain": [
       "<matplotlib.legend.Legend at 0x1e7b2c09df0>"
      ]
     },
     "execution_count": 194,
     "metadata": {},
     "output_type": "execute_result"
    },
    {
     "data": {
      "image/png": "[encoded data removed]",
      "text/plain": [
       "<Figure size 576x360 with 1 Axes>"
      ]
     },
     "metadata": {
      "needs_background": "light"
     },
     "output_type": "display_data"
    }
   ],
   "source": [
    "fig, ax = plt.subplots(figsize = [8, 5],\n",
    "                       sharex = True, # sharing x-axis between visualizations\n",
    "                       sharey = True) # sharing y-axis between visualizations\n",
    "\n",
    "\n",
    "# histogram for carat\n",
    "sns.histplot(data  = df_dropped,\n",
    "             x     = 'carat',\n",
    "             bins  = 21,\n",
    "             kde   = True, # drawing theoretical distribution\n",
    "             color = 'red')\n",
    "\n",
    "\n",
    "# histogram for carat\n",
    "sns.histplot(data  = diamonds_missing,\n",
    "             x     = 'carat',\n",
    "             bins  = 21,\n",
    "             kde   = True, # drawing theoretical distribution\n",
    "             color = 'black')\n",
    "\n",
    "\n",
    "# titles, labels, and formatting\n",
    "plt.title(label   = \"Distribution of Carat Weight\")\n",
    "plt.xlabel(xlabel = 'Carat Weight')\n",
    "plt.ylabel(ylabel = 'Frequency')\n",
    "plt.xlim(0.0, 2.75) # setting x-axis range\n",
    "plt.ylim(0.0, 100) # setting y-axis range\n",
    "\n",
    "\n",
    "# this adds a legend\n",
    "plt.legend(labels =  ['original distribution',\n",
    "                      'imputed distribution'])"
   ]
  },
  {
   "cell_type": "code",
   "execution_count": null,
   "id": "16a2984c",
   "metadata": {},
   "outputs": [],
   "source": []
  }
 ],
 "metadata": {
  "kernelspec": {
   "display_name": "Python 3 (ipykernel)",
   "language": "python",
   "name": "python3"
  },
  "language_info": {
   "codemirror_mode": {
    "name": "ipython",
    "version": 3
   },
   "file_extension": ".py",
   "mimetype": "text/x-python",
   "name": "python",
   "nbconvert_exporter": "python",
   "pygments_lexer": "ipython3",
   "version": "3.9.7"
  },
  "toc": {
   "base_numbering": 1,
   "nav_menu": {},
   "number_sections": true,
   "sideBar": true,
   "skip_h1_title": false,
   "title_cell": "Table of Contents",
   "title_sidebar": "Contents",
   "toc_cell": false,
   "toc_position": {},
   "toc_section_display": true,
   "toc_window_display": false
  },
  "varInspector": {
   "cols": {
    "lenName": 16,
    "lenType": 16,
    "lenVar": 40
   },
   "kernels_config": {
    "python": {
     "delete_cmd_postfix": "",
     "delete_cmd_prefix": "del ",
     "library": "var_list.py",
     "varRefreshCmd": "print(var_dic_list())"
    },
    "r": {
     "delete_cmd_postfix": ") ",
     "delete_cmd_prefix": "rm(",
     "library": "var_list.r",
     "varRefreshCmd": "cat(var_dic_list()) "
    }
   },
   "types_to_exclude": [
    "module",
    "function",
    "builtin_function_or_method",
    "instance",
    "_Feature"
   ],
   "window_display": false
  }
 },
 "nbformat": 4,
 "nbformat_minor": 5
}
